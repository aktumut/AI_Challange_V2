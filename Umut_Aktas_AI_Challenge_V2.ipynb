{
  "cells": [
    {
      "cell_type": "markdown",
      "source": "# AI Engineering Python Exam\n\n\nDear Applicant, \n\nAs a next step, we would like to invite you to answer some technical questions before the interview in order to make sure the technical requirements for the course are meet. Having candidates which meet this criteria is essential in order to deliver on the promice of you all getting a good job position after this one finishes.\n\nIn this assignment you will complete a Jupyter notebook (`01_Python_test_NAME_SURNAME.ipynb` file) with a number of function definitions. Do **not** submit a python file or any other format. Independently of your working environment, copy the final code and results in the notebook. \n\n## Instructions \n\n - The estimated duration of the assignment is **1h approx**. If it is your first time with Python, maybe a bit more. \n - You will see that not all the instructions are given to complete an exercise. Show us how you tackle uncertain problems ;)\n - Make sure to replicate the expected results in your own code cell, feel free to add extra cases. \n\n### A comment on Honesty and Copying\n\nThis is an individual assignment. You **are** allowed to look up specific coding syntax questions and answers on Stack Overflow and similar websites and adapt them, but you **are not allowed to copy and paste entire solutions** into your submission. As a rule of thumb, do not copy and paste from the internet anything larger than one line of code into your submission.\n\nWe receive hundreds of admission tests and **run automated testing to identify similar code**. If you cheat, not only will you get caught, but you are not the type of person that would finish the course in the first place. We are looking for people that can learn and improve on a daily basis. \n\n\n# Tasks\n\n## Task 0 (example)\n\nDefine the function ``average`` which takes an array of numbers and returns\nthe arithmetic mean of them. The function should work like this:",
      "metadata": {
        "cell_id": "00000-e8a65c91-7020-4154-b046-8815af4fa20e",
        "deepnote_cell_type": "markdown"
      }
    },
    {
      "cell_type": "code",
      "metadata": {
        "cell_id": "00001-73e3ce9e-4da3-4d28-83e3-d50438ba03d5",
        "deepnote_cell_type": "code"
      },
      "source": "import numpy\na = numpy.array([1.0, 2.0, 3.0])\nb = numpy.ones((2,3))\nprint(average(a))\nprint(average(b))",
      "execution_count": 45,
      "outputs": [
        {
          "name": "stdout",
          "output_type": "stream",
          "text": "2.0\n1.0\n"
        }
      ]
    },
    {
      "cell_type": "markdown",
      "source": "### Solution:    ",
      "metadata": {
        "cell_id": "00002-30465a94-a3fc-49b2-b34c-df9fff12c4b4",
        "deepnote_cell_type": "markdown"
      }
    },
    {
      "cell_type": "code",
      "metadata": {
        "cell_id": "00003-c28b13af-6a5c-48c2-8dbb-75096a65e896",
        "deepnote_cell_type": "code"
      },
      "source": "def average(x):\n      return x.mean()",
      "execution_count": 43,
      "outputs": []
    },
    {
      "cell_type": "code",
      "metadata": {
        "cell_id": "00004-7a1e49b0-9675-435d-b16b-14a187524607",
        "deepnote_cell_type": "code"
      },
      "source": "# Now we can re-run the code\nprint(average(a))\nprint(average(b))",
      "execution_count": 46,
      "outputs": [
        {
          "name": "stdout",
          "output_type": "stream",
          "text": "2.0\n1.0\n"
        }
      ]
    },
    {
      "cell_type": "markdown",
      "source": "## Task 1\n\nWrite a function ``cashier`` that classifies a given amount of money, **specified in cents**, as greater monetary units. Your code lists the monetary equivalent in dollars (100 ct), quarters (25 ct), dimes (10 ct), nickels (5 ct), and pennies (1 ct). Your program should report the maximum number of dollars that fit in the amount, then the maximum number of quarters that fit in the remainder after you subtract the dollars, then the maximum number of dimes that fit in the remainder, and store all this information into a dictionary.\n\nPlease complete the definition of the function. Here is what you can assume about this function:\n* The input parameter `amount` is a non-negative int value. \n* The function `cashier` must return a dictionary with the following structure:<br>\n  {\n      'dollars': dollars_count,\n      'quarters': quarters_count,\n      'dimes': dimes_count,\n      'nickels': nickels_count,\n      'pennies': pennies_count\n  }\n\n### Expected results:",
      "metadata": {
        "cell_id": "00005-6de8d16c-2685-479c-a906-b9572e01490f",
        "deepnote_cell_type": "markdown"
      }
    },
    {
      "cell_type": "code",
      "metadata": {
        "cell_id": "00006-4482e039-9b55-4cd9-9ba9-773a069e490a",
        "deepnote_cell_type": "code"
      },
      "source": "cashier(1156)",
      "execution_count": 48,
      "outputs": [
        {
          "name": "stdout",
          "output_type": "stream",
          "text": "{'dollars': 11, 'quarters': 2, 'dimes': 0, 'nickels': 1, 'pennies': 1}\n"
        }
      ]
    },
    {
      "cell_type": "markdown",
      "source": "### Your turn 👩‍💻🚀👨‍💻",
      "metadata": {
        "cell_id": "00007-0553f54d-d1d5-49af-99a3-d9f3c191afde",
        "deepnote_cell_type": "markdown"
      }
    },
    {
      "cell_type": "code",
      "metadata": {
        "cell_id": "00008-e679b541-4a93-4e10-8889-a0a952bc8ee9",
        "deepnote_cell_type": "code"
      },
      "source": "# Write your code in this cell:\nfrom math import *\ndef cashier(n):\n    #Creating dictionary \n    dict={'dollars': 'dollars_count','quarters': 'quarters_count','dimes': 'dimes_count','nickels': 'nickels_count','pennies': 'pennies_count'}\n    \n    #Creating list for dictionary that we will use in loop\n    dict_strings=['dollars','quarters','dimes','nickels','pennies']\n    \n    #Creating list for digits\n    Numbers=[100,25,10,5,1]\n    i=0\n    j=0\n    for i in range(len(Numbers)):\n        dict[dict_strings[i]]=floor((n-j)/Numbers[i])\n        #We need to create additional iterable value\n        j+=dict[dict_strings[i]]*Numbers[i]\n        i+=1\n    return print(dict)\n         \ncashier(592)",
      "execution_count": 47,
      "outputs": [
        {
          "name": "stdout",
          "output_type": "stream",
          "text": "{'dollars': 5, 'quarters': 3, 'dimes': 1, 'nickels': 1, 'pennies': 2}\n"
        }
      ]
    },
    {
      "cell_type": "markdown",
      "source": "## Task 2\n\nGrades are values between zero and 10 (both zero and 10 included), and are always rounded to the nearest half point. To translate grades to the American style, 8.5 to 10 become an \"A\", 7.5 and 8 become a \"B\", 6.5 and 7 become a \"C\", 5.5 and 6 become a \"D\", and other grades become an \"F\".\n\nWrite a function `convert_grades` that implements this translation and returns the American translation of the value in the parameter grade. If grade is lower than zero or higher than 10, the function throws an error with the message \"Grades must be values between 0 and 10.\". In the case of input grades that do not end in .0 or .5, you first need to round the grade to the nearest half point.\n\nPlease complete the definition of the function. Here is what you can assume about this function:\n* The input parameter `grade` is a float value between 0 and 10 (both included). \n* The function `convert_grades` must return a char with the correct grade, in case of a valid input, or it must raise an exception in case of not valid input.\n\n### Expected results:",
      "metadata": {
        "cell_id": "00009-9009aec7-4bd6-4f74-a299-dfa2aa76dc59",
        "deepnote_cell_type": "markdown"
      }
    },
    {
      "cell_type": "code",
      "metadata": {
        "cell_id": "00010-2123b2da-d130-4c08-bba7-6ec28cfeb63f",
        "deepnote_cell_type": "code"
      },
      "source": "convert_grades(9.0)",
      "execution_count": 53,
      "outputs": [
        {
          "data": {
            "text/plain": "'A'"
          },
          "execution_count": 53,
          "metadata": {},
          "output_type": "execute_result"
        }
      ]
    },
    {
      "cell_type": "code",
      "metadata": {
        "cell_id": "00011-f85dc2de-c170-47df-974b-c33340463d98",
        "deepnote_cell_type": "code"
      },
      "source": "convert_grades(7.7)",
      "execution_count": 52,
      "outputs": [
        {
          "data": {
            "text/plain": "'B'"
          },
          "execution_count": 52,
          "metadata": {},
          "output_type": "execute_result"
        }
      ]
    },
    {
      "cell_type": "code",
      "metadata": {
        "cell_id": "00012-977c6619-1af1-48af-abda-693adb364069",
        "deepnote_cell_type": "code"
      },
      "source": "convert_grades(11.5)",
      "execution_count": 51,
      "outputs": [
        {
          "name": "stdout",
          "output_type": "stream",
          "text": "Grades must be values between 0 and 10.\n"
        }
      ]
    },
    {
      "cell_type": "markdown",
      "source": "### Your turn 👩‍💻🚀👨‍💻",
      "metadata": {
        "cell_id": "00013-44b44444-7ff3-4dbe-8532-7970fee10fc1",
        "deepnote_cell_type": "markdown"
      }
    },
    {
      "cell_type": "code",
      "metadata": {
        "cell_id": "00014-661d50ed-75ce-4a6e-8bce-fe1a39a15ff1",
        "deepnote_cell_type": "code"
      },
      "source": "##### Write your code in this cell:\ndef convert_grades(grade):\n    grade_letters=['A','B','C','D','F']\n    grade_values=[[8.5,10],[7.5,8],[6.5,7],[5.5,6],[0,5]]\n    i=0\n    grade=round(grade*2)/2\n    result=None\n    if 0<=grade<=10 and i<=len(grade_values):    \n        for i in range(len(grade_values)):\n            if int(grade_values[i][0])<=grade<=int(grade_values[i][1]):\n                result=grade_letters[i]\n            i=+1\n    else:\n        print(\"Grades must be values between 0 and 10.\")  \n\n    return result\nconvert_grades(5.35)\n",
      "execution_count": 50,
      "outputs": [
        {
          "data": {
            "text/plain": "'D'"
          },
          "execution_count": 50,
          "metadata": {},
          "output_type": "execute_result"
        }
      ]
    },
    {
      "cell_type": "markdown",
      "source": "## Task 3\n\nDefine a function `count_vowels` that receives a string parameter, and returns an integer indicating how many different vowels there are in the string. The capital version of a lower case vowel is considered to be the same vowel. y is not considered a vowel. For example, for the string \"Michael Palin\", the function should return  a dictionary with the count for each of the different vowels.\n\nPlease complete the definition of the function. Here is what you can assume about this function:\n* The input parameter `text` is a string text. \n* The function `count_vowels` must return an dictionary with each different vowel and its counts in the input text.\n\n### Expected results:",
      "metadata": {
        "cell_id": "00015-5821a334-8700-4aae-bf82-e5141025d343",
        "deepnote_cell_type": "markdown"
      }
    },
    {
      "cell_type": "code",
      "metadata": {
        "cell_id": "00016-d1a6cd83-8b54-4540-9952-add18b722df1",
        "deepnote_cell_type": "code"
      },
      "source": "count_vowels(\"Michael Palin\")",
      "execution_count": 56,
      "outputs": [
        {
          "name": "stdout",
          "output_type": "stream",
          "text": "{'a': 2, 'e': 1, 'o': 0, 'u': 0, 'i': 2}\n"
        }
      ]
    },
    {
      "cell_type": "markdown",
      "source": "### Your turn 👩‍💻🚀👨‍💻",
      "metadata": {
        "cell_id": "00017-d95294a1-aac7-486d-93b4-357cef1deebf",
        "deepnote_cell_type": "markdown"
      }
    },
    {
      "cell_type": "code",
      "metadata": {
        "cell_id": "00018-3f1a07b7-42e8-45d5-b2e8-32bc7e689e47",
        "deepnote_cell_type": "code"
      },
      "source": "# Write your code in this cell:\ndef count_vowels(text):\n    vovels=['a','e','o','u','i']\n    dict_vovels={'a':0,'e':0,'o':0,'u':0,'i':0}\n    i=0\n    j=0\n    for j in range(len(vovels)):\n        for i in range(len(text)):\n            if text[i]==vovels[j]:\n                dict_vovels[vovels[j]]=dict_vovels[vovels[j]]+1\n                i=+1\n        j=+1\n    return print(dict_vovels)\ncount_vowels('kamyonlar kavun tasir')",
      "execution_count": 55,
      "outputs": [
        {
          "name": "stdout",
          "output_type": "stream",
          "text": "{'a': 4, 'e': 0, 'o': 1, 'u': 1, 'i': 1}\n"
        }
      ]
    },
    {
      "cell_type": "markdown",
      "source": "## Task 4\nA prime number is a positive integer that is dividable by exactly two different numbers, namely 1 and itself. The lowest (and only even) prime number is 2. The first 10 prime numbers are 2, 3, 5, 7, 11, 13, 17, 19, 23, and 29. Write a function that returns True if its parameter is a prime number, and False otherwise. Hint: In a loop where you test the possible dividers of the number, you can conclude that the number is not prime as soon as you encounter a number other than 1 or the number itself that divides it. However, you can only conclude that it actually is prime after you have tested all possible dividers.\n\nPlease complete the definition of the function. Here is what you can assume about this function:\n* The input parameter `number` is a positive int. \n* The function `is_prime` must return the boolean value `True` if the parameter is a prime number, and the boolean value `False` otherwise.\n\n### Expected results:",
      "metadata": {
        "cell_id": "00019-0beaccff-caa9-4d14-9f8e-d1712a921473",
        "deepnote_cell_type": "markdown"
      }
    },
    {
      "cell_type": "code",
      "metadata": {
        "cell_id": "00020-cde632dc-7ab1-4712-b834-a88c8698bc34",
        "deepnote_cell_type": "code"
      },
      "source": "is_prime(29)",
      "execution_count": 60,
      "outputs": [
        {
          "name": "stdout",
          "output_type": "stream",
          "text": "True\n"
        }
      ]
    },
    {
      "cell_type": "code",
      "metadata": {
        "cell_id": "00021-738a078a-633f-4f20-aef5-22d59d7a8d03",
        "deepnote_cell_type": "code"
      },
      "source": "is_prime(15)",
      "execution_count": 59,
      "outputs": [
        {
          "name": "stdout",
          "output_type": "stream",
          "text": "False\n"
        }
      ]
    },
    {
      "cell_type": "markdown",
      "source": "### Your turn 👩‍💻🚀👨‍💻",
      "metadata": {
        "cell_id": "00022-d9ba3ca4-0d4a-403a-be96-0de5d9e606fd",
        "deepnote_cell_type": "markdown"
      }
    },
    {
      "cell_type": "code",
      "metadata": {
        "cell_id": "00023-5ed2c18e-56ec-4459-81c6-7f5cf0357af9",
        "deepnote_cell_type": "code"
      },
      "source": "# Write your code in this cell:\ndef is_prime(number):\n    i=2\n    if number==1:\n        print(\"Prime numbers start from 2\")\n    else:\n        while number>i:\n            if (number/i).is_integer()==False:\n                i=i+1\n            else:\n                print(\"False\")\n                break\n        else:\n            print(\"True\")\nis_prime(983)",
      "execution_count": 58,
      "outputs": [
        {
          "name": "stdout",
          "output_type": "stream",
          "text": "True\n"
        }
      ]
    },
    {
      "cell_type": "markdown",
      "source": "## Task 5 \n\nWrite a program that takes a text as input, splits it into words (where everything that is not a letter is considered a word boundary), and case-insensitively builds a dictionary that stores for every word how often it occurs in the text. Then return the dictionary containing all the words with their quantities sorted in alphabetical order.\n\nPlease complete the definition of the function. Here is what you can assume about this function:<br>\n* The input parameter `text` is a string text.\n* The function `count_words` as a dictionary of all the words with their quantities. \n\n### Expected results:",
      "metadata": {
        "cell_id": "00024-fd4a18b4-015d-4243-9495-ced0d2a39c53",
        "deepnote_cell_type": "markdown"
      }
    },
    {
      "cell_type": "code",
      "metadata": {
        "cell_id": "00025-f6d59a3e-6b70-4d6f-b6f8-0694436b8cd9",
        "deepnote_cell_type": "code"
      },
      "source": "text = \"\"\"How much wood would a woodchuck chuck\nIf a woodchuck could chuck wood?\nHe would chuck, he would, as much as he could,\nAnd chuck as much as a woodchuck would\nIf a woodchuck could chuck wood.\"\"\"\n\n# def count_words(text):\n#     \"\"\"Build a dictionary showing how many words each word exists in a text\"\"\"",
      "execution_count": 70,
      "outputs": []
    },
    {
      "cell_type": "code",
      "metadata": {
        "cell_id": "00026-753c3e82-e3cc-4312-a87c-b9c79db5fe88",
        "deepnote_cell_type": "code"
      },
      "source": "count_words(text)",
      "execution_count": 73,
      "outputs": [
        {
          "name": "stdout",
          "output_type": "stream",
          "text": "a: 4\nand: 1\nas: 4\nchuck: 5\ncould: 3\nhe: 3\nhow: 1\nif: 2\nmuch: 3\nwood: 3\nwoodchuck: 4\nwould: 4\n"
        }
      ]
    },
    {
      "cell_type": "markdown",
      "source": "### Your turn 👩‍💻🚀👨‍💻",
      "metadata": {
        "cell_id": "00027-3fd68d8b-3528-497e-9b84-be3bc505c941",
        "deepnote_cell_type": "markdown"
      }
    },
    {
      "cell_type": "code",
      "metadata": {
        "cell_id": "00028-aa7384cd-26a3-4228-8cd3-f709f3433144",
        "deepnote_cell_type": "code"
      },
      "source": "# Write your code in this cell:\nimport re\ntext1= \"\"\"Since I have been in jail \nthe world has turned around the sun ten times \nAnd if you ask the earth, it will say: \nIt is not worth mentioning, \na microscopic time. \nAnd if you ask me, I will say: \nIt is ten years of my life. \nI had a pencil \nthe year I came to jail. \nIt wore out in a week from writing. \nAnd if you ask the pencil, it will say: \nA whole life. \nAnd if you ask me, I will say: \nIt's nothing, a mere week.\"\"\"\ndef count_words(text):\n    List=re.split(r'[?;.,\\s]\\s*',text.lower().replace(\".\",\"\"))\n    Dict={}\n    for i in range(len(List)):\n        Dict[List[i]]=0\n        for j in range(len(List)):\n            if List[j]==List[i]:\n                Dict[List[i]]=Dict[List[i]]+1\n            j=+1\n        i=+1\n    for k in sorted(Dict.keys()): print(\"%s: %s\" % (k, Dict[k])) # \"%s: %s\" % -> i found on web!\ncount_words(text1)",
      "execution_count": 72,
      "outputs": [
        {
          "name": "stdout",
          "output_type": "stream",
          "text": "a: 5\nand: 4\naround: 1\nask: 4\nbeen: 1\ncame: 1\nearth: 1\nfrom: 1\nhad: 1\nhas: 1\nhave: 1\ni: 5\nif: 4\nin: 2\nis: 2\nit: 5\nit's: 1\njail: 2\nlife: 2\nme: 2\nmentioning: 1\nmere: 1\nmicroscopic: 1\nmy: 1\nnot: 1\nnothing: 1\nof: 1\nout: 1\npencil: 2\nsay:: 4\nsince: 1\nsun: 1\nten: 2\nthe: 5\ntime: 1\ntimes: 1\nto: 1\nturned: 1\nweek: 2\nwhole: 1\nwill: 4\nwore: 1\nworld: 1\nworth: 1\nwriting: 1\nyear: 1\nyears: 1\nyou: 4\n"
        }
      ]
    },
    {
      "cell_type": "markdown",
      "source": "## Task 6\n\nAwesome! Can you do the same but with a program that takes a file as an input?\n\nWrite a program that takes a file.txt as input, **reads it**, splits it into words (where everything that is not a letter is considered a word boundary), and case-insensitively builds a dictionary that stores for every word how often it occurs in the text. Then return the dictionary containing all the words with their quantities sorted in alphabetical order.\n\nPlease complete the definition of the function. Here is what you can assume about this function:<br>\n* The input parameter `file` is a file.txt.\n* A main function\n* Inside the main function, a function defined as `readfile`, which reads **line by line** each of the lines in the text. \n* The function `count_words` as a dictionary of all the words with their quantities. \n* The final result is a list of tuples containing the dictionary pairs (keys and values) of all the words with their quantities sorted in the **higher frequency of occurrence**. *Note that sorting it will prove to be an additional challenge.*\n\n\n### Expected structure:",
      "metadata": {
        "cell_id": "00029-09622371-5401-4c63-a1aa-2a913bae06f9",
        "deepnote_cell_type": "markdown"
      }
    },
    {
      "cell_type": "code",
      "metadata": {
        "scrolled": true,
        "cell_id": "00030-d47b2703-ccdb-4881-ab41-a1dd22b6b49d",
        "deepnote_cell_type": "code"
      },
      "source": "import coder.txt\n\ndef readfile(txt)\n    \n    return\n\ndef countwords(line)\n    return\n\ndef main()\n    readfile(txt)\n        countwords(line)\n    if __name__== \"__main__\" :\nmain()",
      "execution_count": 483,
      "outputs": [
        {
          "ename": "SyntaxError",
          "evalue": "invalid syntax (<ipython-input-483-62055ffd0675>, line 3)",
          "output_type": "error",
          "traceback": [
            "\u001b[1;36m  File \u001b[1;32m\"<ipython-input-483-62055ffd0675>\"\u001b[1;36m, line \u001b[1;32m3\u001b[0m\n\u001b[1;33m    def readfile(txt)\u001b[0m\n\u001b[1;37m                     ^\u001b[0m\n\u001b[1;31mSyntaxError\u001b[0m\u001b[1;31m:\u001b[0m invalid syntax\n"
          ]
        }
      ]
    },
    {
      "cell_type": "markdown",
      "source": "### Example of **final result**:\nSame as the last exercise, just in a list(tuple) **and sorted by frequency**\n\n[('code', 7), >>> ... >>> ('a',4) >>> ... >>> ('from',1)]",
      "metadata": {
        "cell_id": "00031-e8d1a8e1-212e-4887-9a92-c47853907811",
        "deepnote_cell_type": "markdown"
      }
    },
    {
      "cell_type": "markdown",
      "source": "### Your turn 👩‍💻🚀👨‍💻",
      "metadata": {
        "cell_id": "00032-d5fafad9-57b7-41ba-a2cf-59657324b279",
        "deepnote_cell_type": "markdown"
      }
    },
    {
      "cell_type": "code",
      "metadata": {
        "cell_id": "00033-c4fcb1c3-6804-40c6-b9dd-030ba1d41e51",
        "deepnote_cell_type": "code"
      },
      "source": "# Write your code in this cell:\n# import coder.txt\ntxt=r'C:\\Users\\aktum\\Documents\\On_living.txt'\ndef readfile(txt):\n    readfile = open(txt, 'r')\n    List_text = readfile.readlines()\n    return List_text\n\n\ndef countwords(line):\n    line=readfile(txt)\n    List=[]\n    for l in range(len(line)):\n        List.extend(re.split(r'[?;.,\\n\\s]\\s*',line[l].lower().replace(\".\",\"\").replace(\"\\n\",\"\").replace(\"?\",\"\").replace(\",\",\"\")))\n    Dict={}\n    for i in range(len(List)):\n        Dict[List[i]]=0\n        for j in range(len(List)):\n            if List[j]==List[i]:\n                Dict[List[i]]=Dict[List[i]]+1\n            j=+1\n        i=+1\n    print(sorted(Dict.items(), key=lambda item: item[1], reverse=True))\n    \ndef main(txt):\n    countwords(readfile(txt))\n    \n\nprint(main(txt)) \n",
      "execution_count": 74,
      "outputs": [
        {
          "name": "stdout",
          "output_type": "stream",
          "text": "[('chuck', 5), ('would', 4), ('a', 4), ('woodchuck', 4), ('as', 4), ('much', 3), ('wood', 3), ('could', 3), ('he', 3), ('if', 2), ('how', 1), ('and', 1)]\nNone\n"
        }
      ]
    },
    {
      "cell_type": "markdown",
      "source": "",
      "metadata": {
        "cell_id": "00034-b114ac7f-a52b-4ca2-ab2e-6c41fe874cb6",
        "deepnote_cell_type": "markdown"
      }
    },
    {
      "cell_type": "markdown",
      "source": "this is for only updating github with deepnote terminals!",
      "metadata": {
        "tags": [],
        "cell_id": "00035-88199e89-677d-4850-a914-552a41426c7a",
        "deepnote_cell_type": "markdown"
      }
    },
    {
      "cell_type": "markdown",
      "source": "",
      "metadata": {
        "tags": [],
        "cell_id": "00036-40027e5a-3c15-44dd-8518-2e6ad309b565",
        "deepnote_cell_type": "markdown"
      }
    },
    {
      "cell_type": "markdown",
      "source": "<a style='text-decoration:none;line-height:16px;display:flex;color:#5B5B62;padding:10px;justify-content:end;' href='https://deepnote.com?utm_source=created-in-deepnote-cell&projectId=7c3f48ab-703d-46df-bacd-505a6a35e279' target=\"_blank\">\n<img style='display:inline;max-height:16px;margin:0px;margin-right:7.5px;' src='data:image/svg+xml;base64,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' > </img>\nCreated in <span style='font-weight:600;margin-left:4px;'>Deepnote</span></a>",
      "metadata": {
        "tags": [],
        "created_in_deepnote_cell": true,
        "deepnote_cell_type": "markdown"
      }
    }
  ],
  "nbformat": 4,
  "nbformat_minor": 4,
  "metadata": {
    "kernelspec": {
      "display_name": "Python 3",
      "language": "python",
      "name": "python3"
    },
    "language_info": {
      "codemirror_mode": {
        "name": "ipython",
        "version": 3
      },
      "file_extension": ".py",
      "mimetype": "text/x-python",
      "name": "python",
      "nbconvert_exporter": "python",
      "pygments_lexer": "ipython3",
      "version": "3.8.5"
    },
    "deepnote_notebook_id": "bf71619c-5980-48b3-922b-cc7073622575",
    "deepnote": {},
    "deepnote_execution_queue": []
  }
}