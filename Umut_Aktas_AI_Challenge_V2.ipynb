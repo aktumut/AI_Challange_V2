{
 "cells": [
  {
   "cell_type": "markdown",
   "metadata": {},
   "source": [
    "# AI Engineering Python Exam\n",
    "\n",
    "\n",
    "Dear Applicant, \n",
    "\n",
    "As a next step, we would like to invite you to answer some technical questions before the interview in order to make sure the technical requirements for the course are meet. Having candidates which meet this criteria is essential in order to deliver on the promice of you all getting a good job position after this one finishes.\n",
    "\n",
    "In this assignment you will complete a Jupyter notebook (`01_Python_test_NAME_SURNAME.ipynb` file) with a number of function definitions. Do **not** submit a python file or any other format. Independently of your working environment, copy the final code and results in the notebook. \n",
    "\n",
    "## Instructions \n",
    "\n",
    " - The estimated duration of the assignment is **1h approx**. If it is your first time with Python, maybe a bit more. \n",
    " - You will see that not all the instructions are given to complete an exercise. Show us how you tackle uncertain problems ;)\n",
    " - Make sure to replicate the expected results in your own code cell, feel free to add extra cases. \n",
    "\n",
    "### A comment on Honesty and Copying\n",
    "\n",
    "This is an individual assignment. You **are** allowed to look up specific coding syntax questions and answers on Stack Overflow and similar websites and adapt them, but you **are not allowed to copy and paste entire solutions** into your submission. As a rule of thumb, do not copy and paste from the internet anything larger than one line of code into your submission.\n",
    "\n",
    "We receive hundreds of admission tests and **run automated testing to identify similar code**. If you cheat, not only will you get caught, but you are not the type of person that would finish the course in the first place. We are looking for people that can learn and improve on a daily basis. \n",
    "\n",
    "\n",
    "# Tasks\n",
    "\n",
    "## Task 0 (example)\n",
    "\n",
    "Define the function ``average`` which takes an array of numbers and returns\n",
    "the arithmetic mean of them. The function should work like this:"
   ]
  },
  {
   "cell_type": "code",
   "execution_count": 45,
   "metadata": {},
   "outputs": [
    {
     "name": "stdout",
     "output_type": "stream",
     "text": [
      "2.0\n",
      "1.0\n"
     ]
    }
   ],
   "source": [
    "import numpy\n",
    "a = numpy.array([1.0, 2.0, 3.0])\n",
    "b = numpy.ones((2,3))\n",
    "print(average(a))\n",
    "print(average(b))"
   ]
  },
  {
   "cell_type": "markdown",
   "metadata": {},
   "source": [
    "### Solution:    "
   ]
  },
  {
   "cell_type": "code",
   "execution_count": 43,
   "metadata": {},
   "outputs": [],
   "source": [
    "def average(x):\n",
    "      return x.mean()"
   ]
  },
  {
   "cell_type": "code",
   "execution_count": 46,
   "metadata": {},
   "outputs": [
    {
     "name": "stdout",
     "output_type": "stream",
     "text": [
      "2.0\n",
      "1.0\n"
     ]
    }
   ],
   "source": [
    "# Now we can re-run the code\n",
    "print(average(a))\n",
    "print(average(b))"
   ]
  },
  {
   "cell_type": "markdown",
   "metadata": {},
   "source": [
    "## Task 1\n",
    "\n",
    "Write a function ``cashier`` that classifies a given amount of money, **specified in cents**, as greater monetary units. Your code lists the monetary equivalent in dollars (100 ct), quarters (25 ct), dimes (10 ct), nickels (5 ct), and pennies (1 ct). Your program should report the maximum number of dollars that fit in the amount, then the maximum number of quarters that fit in the remainder after you subtract the dollars, then the maximum number of dimes that fit in the remainder, and store all this information into a dictionary.\n",
    "\n",
    "Please complete the definition of the function. Here is what you can assume about this function:\n",
    "* The input parameter `amount` is a non-negative int value. \n",
    "* The function `cashier` must return a dictionary with the following structure:<br>\n",
    "  {\n",
    "      'dollars': dollars_count,\n",
    "      'quarters': quarters_count,\n",
    "      'dimes': dimes_count,\n",
    "      'nickels': nickels_count,\n",
    "      'pennies': pennies_count\n",
    "  }\n",
    "\n",
    "### Expected results:"
   ]
  },
  {
   "cell_type": "code",
   "execution_count": 48,
   "metadata": {},
   "outputs": [
    {
     "name": "stdout",
     "output_type": "stream",
     "text": [
      "{'dollars': 11, 'quarters': 2, 'dimes': 0, 'nickels': 1, 'pennies': 1}\n"
     ]
    }
   ],
   "source": [
    "cashier(1156)"
   ]
  },
  {
   "cell_type": "markdown",
   "metadata": {},
   "source": [
    "### Your turn 👩‍💻🚀👨‍💻"
   ]
  },
  {
   "cell_type": "code",
   "execution_count": 47,
   "metadata": {},
   "outputs": [
    {
     "name": "stdout",
     "output_type": "stream",
     "text": [
      "{'dollars': 5, 'quarters': 3, 'dimes': 1, 'nickels': 1, 'pennies': 2}\n"
     ]
    }
   ],
   "source": [
    "# Write your code in this cell:\n",
    "from math import *\n",
    "def cashier(n):\n",
    "    #Creating dictionary \n",
    "    dict={'dollars': 'dollars_count','quarters': 'quarters_count','dimes': 'dimes_count','nickels': 'nickels_count','pennies': 'pennies_count'}\n",
    "    \n",
    "    #Creating list for dictionary that we will use in loop\n",
    "    dict_strings=['dollars','quarters','dimes','nickels','pennies']\n",
    "    \n",
    "    #Creating list for digits\n",
    "    Numbers=[100,25,10,5,1]\n",
    "    i=0\n",
    "    j=0\n",
    "    for i in range(len(Numbers)):\n",
    "        dict[dict_strings[i]]=floor((n-j)/Numbers[i])\n",
    "        #We need to create additional iterable value\n",
    "        j+=dict[dict_strings[i]]*Numbers[i]\n",
    "        i+=1\n",
    "    return print(dict)\n",
    "         \n",
    "cashier(592)"
   ]
  },
  {
   "cell_type": "markdown",
   "metadata": {},
   "source": [
    "## Task 2\n",
    "\n",
    "Grades are values between zero and 10 (both zero and 10 included), and are always rounded to the nearest half point. To translate grades to the American style, 8.5 to 10 become an \"A\", 7.5 and 8 become a \"B\", 6.5 and 7 become a \"C\", 5.5 and 6 become a \"D\", and other grades become an \"F\".\n",
    "\n",
    "Write a function `convert_grades` that implements this translation and returns the American translation of the value in the parameter grade. If grade is lower than zero or higher than 10, the function throws an error with the message \"Grades must be values between 0 and 10.\". In the case of input grades that do not end in .0 or .5, you first need to round the grade to the nearest half point.\n",
    "\n",
    "Please complete the definition of the function. Here is what you can assume about this function:\n",
    "* The input parameter `grade` is a float value between 0 and 10 (both included). \n",
    "* The function `convert_grades` must return a char with the correct grade, in case of a valid input, or it must raise an exception in case of not valid input.\n",
    "\n",
    "### Expected results:"
   ]
  },
  {
   "cell_type": "code",
   "execution_count": 53,
   "metadata": {},
   "outputs": [
    {
     "data": {
      "text/plain": [
       "'A'"
      ]
     },
     "execution_count": 53,
     "metadata": {},
     "output_type": "execute_result"
    }
   ],
   "source": [
    "convert_grades(9.0)"
   ]
  },
  {
   "cell_type": "code",
   "execution_count": 52,
   "metadata": {},
   "outputs": [
    {
     "data": {
      "text/plain": [
       "'B'"
      ]
     },
     "execution_count": 52,
     "metadata": {},
     "output_type": "execute_result"
    }
   ],
   "source": [
    "convert_grades(7.7)"
   ]
  },
  {
   "cell_type": "code",
   "execution_count": 51,
   "metadata": {},
   "outputs": [
    {
     "name": "stdout",
     "output_type": "stream",
     "text": [
      "Grades must be values between 0 and 10.\n"
     ]
    }
   ],
   "source": [
    "convert_grades(11.5)"
   ]
  },
  {
   "cell_type": "markdown",
   "metadata": {},
   "source": [
    "### Your turn 👩‍💻🚀👨‍💻"
   ]
  },
  {
   "cell_type": "code",
   "execution_count": 50,
   "metadata": {},
   "outputs": [
    {
     "data": {
      "text/plain": [
       "'D'"
      ]
     },
     "execution_count": 50,
     "metadata": {},
     "output_type": "execute_result"
    }
   ],
   "source": [
    "##### Write your code in this cell:\n",
    "def convert_grades(grade):\n",
    "    grade_letters=['A','B','C','D','F']\n",
    "    grade_values=[[8.5,10],[7.5,8],[6.5,7],[5.5,6],[0,5]]\n",
    "    i=0\n",
    "    grade=round(grade*2)/2\n",
    "    result=None\n",
    "    if 0<=grade<=10 and i<=len(grade_values):    \n",
    "        for i in range(len(grade_values)):\n",
    "            if int(grade_values[i][0])<=grade<=int(grade_values[i][1]):\n",
    "                result=grade_letters[i]\n",
    "            i=+1\n",
    "    else:\n",
    "        print(\"Grades must be values between 0 and 10.\")  \n",
    "\n",
    "    return result\n",
    "convert_grades(5.35)\n"
   ]
  },
  {
   "cell_type": "markdown",
   "metadata": {},
   "source": [
    "## Task 3\n",
    "\n",
    "Define a function `count_vowels` that receives a string parameter, and returns an integer indicating how many different vowels there are in the string. The capital version of a lower case vowel is considered to be the same vowel. y is not considered a vowel. For example, for the string \"Michael Palin\", the function should return  a dictionary with the count for each of the different vowels.\n",
    "\n",
    "Please complete the definition of the function. Here is what you can assume about this function:\n",
    "* The input parameter `text` is a string text. \n",
    "* The function `count_vowels` must return an dictionary with each different vowel and its counts in the input text.\n",
    "\n",
    "### Expected results:"
   ]
  },
  {
   "cell_type": "code",
   "execution_count": 56,
   "metadata": {},
   "outputs": [
    {
     "name": "stdout",
     "output_type": "stream",
     "text": [
      "{'a': 2, 'e': 1, 'o': 0, 'u': 0, 'i': 2}\n"
     ]
    }
   ],
   "source": [
    "count_vowels(\"Michael Palin\")"
   ]
  },
  {
   "cell_type": "markdown",
   "metadata": {},
   "source": [
    "### Your turn 👩‍💻🚀👨‍💻"
   ]
  },
  {
   "cell_type": "code",
   "execution_count": 55,
   "metadata": {},
   "outputs": [
    {
     "name": "stdout",
     "output_type": "stream",
     "text": [
      "{'a': 4, 'e': 0, 'o': 1, 'u': 1, 'i': 1}\n"
     ]
    }
   ],
   "source": [
    "# Write your code in this cell:\n",
    "def count_vowels(text):\n",
    "    vovels=['a','e','o','u','i']\n",
    "    dict_vovels={'a':0,'e':0,'o':0,'u':0,'i':0}\n",
    "    i=0\n",
    "    j=0\n",
    "    for j in range(len(vovels)):\n",
    "        for i in range(len(text)):\n",
    "            if text[i]==vovels[j]:\n",
    "                dict_vovels[vovels[j]]=dict_vovels[vovels[j]]+1\n",
    "                i=+1\n",
    "        j=+1\n",
    "    return print(dict_vovels)\n",
    "count_vowels('kamyonlar kavun tasir')"
   ]
  },
  {
   "cell_type": "markdown",
   "metadata": {},
   "source": [
    "## Task 4\n",
    "A prime number is a positive integer that is dividable by exactly two different numbers, namely 1 and itself. The lowest (and only even) prime number is 2. The first 10 prime numbers are 2, 3, 5, 7, 11, 13, 17, 19, 23, and 29. Write a function that returns True if its parameter is a prime number, and False otherwise. Hint: In a loop where you test the possible dividers of the number, you can conclude that the number is not prime as soon as you encounter a number other than 1 or the number itself that divides it. However, you can only conclude that it actually is prime after you have tested all possible dividers.\n",
    "\n",
    "Please complete the definition of the function. Here is what you can assume about this function:\n",
    "* The input parameter `number` is a positive int. \n",
    "* The function `is_prime` must return the boolean value `True` if the parameter is a prime number, and the boolean value `False` otherwise.\n",
    "\n",
    "### Expected results:"
   ]
  },
  {
   "cell_type": "code",
   "execution_count": 60,
   "metadata": {},
   "outputs": [
    {
     "name": "stdout",
     "output_type": "stream",
     "text": [
      "True\n"
     ]
    }
   ],
   "source": [
    "is_prime(29)"
   ]
  },
  {
   "cell_type": "code",
   "execution_count": 59,
   "metadata": {},
   "outputs": [
    {
     "name": "stdout",
     "output_type": "stream",
     "text": [
      "False\n"
     ]
    }
   ],
   "source": [
    "is_prime(15)"
   ]
  },
  {
   "cell_type": "markdown",
   "metadata": {},
   "source": [
    "### Your turn 👩‍💻🚀👨‍💻"
   ]
  },
  {
   "cell_type": "code",
   "execution_count": 58,
   "metadata": {},
   "outputs": [
    {
     "name": "stdout",
     "output_type": "stream",
     "text": [
      "True\n"
     ]
    }
   ],
   "source": [
    "# Write your code in this cell:\n",
    "def is_prime(number):\n",
    "    i=2\n",
    "    if number==1:\n",
    "        print(\"Prime numbers start from 2\")\n",
    "    else:\n",
    "        while number>i:\n",
    "            if (number/i).is_integer()==False:\n",
    "                i=i+1\n",
    "            else:\n",
    "                print(\"False\")\n",
    "                break\n",
    "        else:\n",
    "            print(\"True\")\n",
    "is_prime(983)"
   ]
  },
  {
   "cell_type": "markdown",
   "metadata": {},
   "source": [
    "## Task 5 \n",
    "\n",
    "Write a program that takes a text as input, splits it into words (where everything that is not a letter is considered a word boundary), and case-insensitively builds a dictionary that stores for every word how often it occurs in the text. Then return the dictionary containing all the words with their quantities sorted in alphabetical order.\n",
    "\n",
    "Please complete the definition of the function. Here is what you can assume about this function:<br>\n",
    "* The input parameter `text` is a string text.\n",
    "* The function `count_words` as a dictionary of all the words with their quantities. \n",
    "\n",
    "### Expected results:"
   ]
  },
  {
   "cell_type": "code",
   "execution_count": 70,
   "metadata": {},
   "outputs": [],
   "source": [
    "text = \"\"\"How much wood would a woodchuck chuck\n",
    "If a woodchuck could chuck wood?\n",
    "He would chuck, he would, as much as he could,\n",
    "And chuck as much as a woodchuck would\n",
    "If a woodchuck could chuck wood.\"\"\"\n",
    "\n",
    "# def count_words(text):\n",
    "#     \"\"\"Build a dictionary showing how many words each word exists in a text\"\"\""
   ]
  },
  {
   "cell_type": "code",
   "execution_count": 73,
   "metadata": {},
   "outputs": [
    {
     "name": "stdout",
     "output_type": "stream",
     "text": [
      "a: 4\n",
      "and: 1\n",
      "as: 4\n",
      "chuck: 5\n",
      "could: 3\n",
      "he: 3\n",
      "how: 1\n",
      "if: 2\n",
      "much: 3\n",
      "wood: 3\n",
      "woodchuck: 4\n",
      "would: 4\n"
     ]
    }
   ],
   "source": [
    "count_words(text)"
   ]
  },
  {
   "cell_type": "markdown",
   "metadata": {},
   "source": [
    "### Your turn 👩‍💻🚀👨‍💻"
   ]
  },
  {
   "cell_type": "code",
   "execution_count": 72,
   "metadata": {},
   "outputs": [
    {
     "name": "stdout",
     "output_type": "stream",
     "text": [
      "a: 5\n",
      "and: 4\n",
      "around: 1\n",
      "ask: 4\n",
      "been: 1\n",
      "came: 1\n",
      "earth: 1\n",
      "from: 1\n",
      "had: 1\n",
      "has: 1\n",
      "have: 1\n",
      "i: 5\n",
      "if: 4\n",
      "in: 2\n",
      "is: 2\n",
      "it: 5\n",
      "it's: 1\n",
      "jail: 2\n",
      "life: 2\n",
      "me: 2\n",
      "mentioning: 1\n",
      "mere: 1\n",
      "microscopic: 1\n",
      "my: 1\n",
      "not: 1\n",
      "nothing: 1\n",
      "of: 1\n",
      "out: 1\n",
      "pencil: 2\n",
      "say:: 4\n",
      "since: 1\n",
      "sun: 1\n",
      "ten: 2\n",
      "the: 5\n",
      "time: 1\n",
      "times: 1\n",
      "to: 1\n",
      "turned: 1\n",
      "week: 2\n",
      "whole: 1\n",
      "will: 4\n",
      "wore: 1\n",
      "world: 1\n",
      "worth: 1\n",
      "writing: 1\n",
      "year: 1\n",
      "years: 1\n",
      "you: 4\n"
     ]
    }
   ],
   "source": [
    "# Write your code in this cell:\n",
    "import re\n",
    "text1= \"\"\"Since I have been in jail \n",
    "the world has turned around the sun ten times \n",
    "And if you ask the earth, it will say: \n",
    "It is not worth mentioning, \n",
    "a microscopic time. \n",
    "And if you ask me, I will say: \n",
    "It is ten years of my life. \n",
    "I had a pencil \n",
    "the year I came to jail. \n",
    "It wore out in a week from writing. \n",
    "And if you ask the pencil, it will say: \n",
    "A whole life. \n",
    "And if you ask me, I will say: \n",
    "It's nothing, a mere week.\"\"\"\n",
    "def count_words(text):\n",
    "    List=re.split(r'[?;.,\\s]\\s*',text.lower().replace(\".\",\"\"))\n",
    "    Dict={}\n",
    "    for i in range(len(List)):\n",
    "        Dict[List[i]]=0\n",
    "        for j in range(len(List)):\n",
    "            if List[j]==List[i]:\n",
    "                Dict[List[i]]=Dict[List[i]]+1\n",
    "            j=+1\n",
    "        i=+1\n",
    "    for k in sorted(Dict.keys()): print(\"%s: %s\" % (k, Dict[k])) # \"%s: %s\" % -> i found on web!\n",
    "count_words(text1)"
   ]
  },
  {
   "cell_type": "markdown",
   "metadata": {},
   "source": [
    "## Task 6\n",
    "\n",
    "Awesome! Can you do the same but with a program that takes a file as an input?\n",
    "\n",
    "Write a program that takes a file.txt as input, **reads it**, splits it into words (where everything that is not a letter is considered a word boundary), and case-insensitively builds a dictionary that stores for every word how often it occurs in the text. Then return the dictionary containing all the words with their quantities sorted in alphabetical order.\n",
    "\n",
    "Please complete the definition of the function. Here is what you can assume about this function:<br>\n",
    "* The input parameter `file` is a file.txt.\n",
    "* A main function\n",
    "* Inside the main function, a function defined as `readfile`, which reads **line by line** each of the lines in the text. \n",
    "* The function `count_words` as a dictionary of all the words with their quantities. \n",
    "* The final result is a list of tuples containing the dictionary pairs (keys and values) of all the words with their quantities sorted in the **higher frequency of occurrence**. *Note that sorting it will prove to be an additional challenge.*\n",
    "\n",
    "\n",
    "### Expected structure:"
   ]
  },
  {
   "cell_type": "code",
   "execution_count": 483,
   "metadata": {
    "scrolled": true
   },
   "outputs": [
    {
     "ename": "SyntaxError",
     "evalue": "invalid syntax (<ipython-input-483-62055ffd0675>, line 3)",
     "output_type": "error",
     "traceback": [
      "\u001b[1;36m  File \u001b[1;32m\"<ipython-input-483-62055ffd0675>\"\u001b[1;36m, line \u001b[1;32m3\u001b[0m\n\u001b[1;33m    def readfile(txt)\u001b[0m\n\u001b[1;37m                     ^\u001b[0m\n\u001b[1;31mSyntaxError\u001b[0m\u001b[1;31m:\u001b[0m invalid syntax\n"
     ]
    }
   ],
   "source": [
    "import coder.txt\n",
    "\n",
    "def readfile(txt)\n",
    "    \n",
    "    return\n",
    "\n",
    "def countwords(line)\n",
    "    return\n",
    "\n",
    "def main()\n",
    "    readfile(txt)\n",
    "        countwords(line)\n",
    "    if __name__== \"__main__\" :\n",
    "main()"
   ]
  },
  {
   "cell_type": "markdown",
   "metadata": {},
   "source": [
    "### Example of **final result**:\n",
    "Same as the last exercise, just in a list(tuple) **and sorted by frequency**\n",
    "\n",
    "[('code', 7), >>> ... >>> ('a',4) >>> ... >>> ('from',1)]"
   ]
  },
  {
   "cell_type": "markdown",
   "metadata": {},
   "source": [
    "### Your turn 👩‍💻🚀👨‍💻"
   ]
  },
  {
   "cell_type": "code",
   "execution_count": 74,
   "metadata": {},
   "outputs": [
    {
     "name": "stdout",
     "output_type": "stream",
     "text": [
      "[('chuck', 5), ('would', 4), ('a', 4), ('woodchuck', 4), ('as', 4), ('much', 3), ('wood', 3), ('could', 3), ('he', 3), ('if', 2), ('how', 1), ('and', 1)]\n",
      "None\n"
     ]
    }
   ],
   "source": [
    "# Write your code in this cell:\n",
    "# import coder.txt\n",
    "txt=r'C:\\Users\\aktum\\Documents\\On_living.txt'\n",
    "def readfile(txt):\n",
    "    readfile = open(txt, 'r')\n",
    "    List_text = readfile.readlines()\n",
    "    return List_text\n",
    "\n",
    "\n",
    "def countwords(line):\n",
    "    line=readfile(txt)\n",
    "    List=[]\n",
    "    for l in range(len(line)):\n",
    "        List.extend(re.split(r'[?;.,\\n\\s]\\s*',line[l].lower().replace(\".\",\"\").replace(\"\\n\",\"\").replace(\"?\",\"\").replace(\",\",\"\")))\n",
    "    Dict={}\n",
    "    for i in range(len(List)):\n",
    "        Dict[List[i]]=0\n",
    "        for j in range(len(List)):\n",
    "            if List[j]==List[i]:\n",
    "                Dict[List[i]]=Dict[List[i]]+1\n",
    "            j=+1\n",
    "        i=+1\n",
    "    print(sorted(Dict.items(), key=lambda item: item[1], reverse=True))\n",
    "    \n",
    "def main(txt):\n",
    "    countwords(readfile(txt))\n",
    "    \n",
    "\n",
    "print(main(txt)) \n"
   ]
  },
  {
   "cell_type": "markdown",
   "metadata": {},
   "source": []
  }
 ],
 "metadata": {
  "kernelspec": {
   "display_name": "Python 3",
   "language": "python",
   "name": "python3"
  },
  "language_info": {
   "codemirror_mode": {
    "name": "ipython",
    "version": 3
   },
   "file_extension": ".py",
   "mimetype": "text/x-python",
   "name": "python",
   "nbconvert_exporter": "python",
   "pygments_lexer": "ipython3",
   "version": "3.8.5"
  }
 },
 "nbformat": 4,
 "nbformat_minor": 4
}
